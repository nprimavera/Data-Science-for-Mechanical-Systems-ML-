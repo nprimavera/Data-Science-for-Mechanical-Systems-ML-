{
  "nbformat": 4,
  "nbformat_minor": 0,
  "metadata": {
    "colab": {
      "provenance": [],
      "collapsed_sections": [
        "XJJYm-Y9hN7V"
      ],
      "mount_file_id": "1bUj3BEdCAjZJSQDBrqf63YrbBTV74Y85",
      "authorship_tag": "ABX9TyNnQ8PvplaqnGLe3XHvV6G4",
      "include_colab_link": true
    },
    "kernelspec": {
      "name": "python3",
      "display_name": "Python 3"
    },
    "language_info": {
      "name": "python"
    }
  },
  "cells": [
    {
      "cell_type": "markdown",
      "metadata": {
        "id": "view-in-github",
        "colab_type": "text"
      },
      "source": [
        "<a href=\"https://colab.research.google.com/github/nprimavera/Data-Science-for-Mechanical-Systems-ML-/blob/main/Machine_Learning_Project.ipynb\" target=\"_parent\"><img src=\"https://colab.research.google.com/assets/colab-badge.svg\" alt=\"Open In Colab\"/></a>"
      ]
    },
    {
      "cell_type": "markdown",
      "source": [
        "# Machine Learning Project"
      ],
      "metadata": {
        "id": "U-ncakMbcgiT"
      }
    },
    {
      "cell_type": "code",
      "execution_count": null,
      "metadata": {
        "id": "L7wY34i9wdDU"
      },
      "outputs": [],
      "source": [
        "# Machine Learning Project"
      ]
    },
    {
      "cell_type": "markdown",
      "source": [
        "Ideas:\n",
        "- Aerospace\n",
        "- Sports\n",
        "- Stock Market"
      ],
      "metadata": {
        "id": "jpTwu55h_gG8"
      }
    },
    {
      "cell_type": "markdown",
      "source": [
        "Steps:\n",
        "1. Build a pipeline and prepare the data\n",
        "2. Train the data (use a Neural Network)\n",
        "3. Evaluate the model\n",
        "4. Automatically retrain the model to improve it"
      ],
      "metadata": {
        "id": "Xaqm_mIt_nQ0"
      }
    },
    {
      "cell_type": "code",
      "source": [
        "# Basic libraries\n",
        "%matplotlib inline\n",
        "import matplotlib.pyplot as plt\n",
        "import numpy as np\n",
        "import pandas as pd\n",
        "import tensorflow as tf\n",
        "import seaborn as sns\n",
        "import statsmodels.formula.api as smf\n",
        "import statsmodels.api as sm\n",
        "\n",
        "from typing import List\n",
        "from typing import Tuple\n",
        "from typing import Union\n",
        "from typing import Callable\n",
        "from typing import Dict\n",
        "from sklearn.linear_model import LinearRegression\n",
        "from scipy.stats import binom\n",
        "from scipy.stats import norm\n",
        "from scipy.stats import ttest_ind\n",
        "from tqdm import tqdm\n",
        "from urllib.error import URLError\n",
        "from tensorflow import keras\n",
        "from tensorflow.keras import layers\n",
        "from sklearn.metrics import roc_auc_score\n",
        "from sklearn.model_selection import train_test_split\n",
        "from sklearn.preprocessing import StandardScaler\n",
        "from matplotlib import cm\n",
        "\n",
        "sns.set(font_scale=1.5)\n",
        "sns.set_style(\"whitegrid\", {'grid.linestyle':'--'})"
      ],
      "metadata": {
        "id": "XoKadhtLnLhw"
      },
      "execution_count": null,
      "outputs": []
    },
    {
      "cell_type": "markdown",
      "source": [
        "# Stock Market - Importing data using Yahoo Finance to get Historic Prices of Stocks"
      ],
      "metadata": {
        "id": "tWlQsqdqcrDW"
      }
    },
    {
      "cell_type": "code",
      "source": [
        "# Importing data using Yahoo Finance"
      ],
      "metadata": {
        "id": "9LtPkvqlarTs"
      },
      "execution_count": null,
      "outputs": []
    },
    {
      "cell_type": "code",
      "source": [
        "import urllib.request\n",
        "import json\n",
        "import time\n",
        "import os\n",
        "import difflib\n",
        "import itertools\n",
        "import pandas as pd\n",
        "\n",
        "from multiprocessing.dummy import Pool\n",
        "from datetime import datetime\n",
        "\n",
        "try:\n",
        "    import httplib\n",
        "except:\n",
        "    import http.client as httplib"
      ],
      "metadata": {
        "id": "gNnB1y93koMt"
      },
      "execution_count": null,
      "outputs": []
    },
    {
      "cell_type": "code",
      "source": [
        "# Check internet connection"
      ],
      "metadata": {
        "id": "F9ojifZflkJA"
      },
      "execution_count": null,
      "outputs": []
    },
    {
      "cell_type": "code",
      "source": [
        "def check_internet():                                               # define the check internet function\n",
        "    conn = httplib.HTTPConnection(\"www.google.com\", timeout=5)      # creates an HTTP connection to \"www.google.com\" with a timeout of 5 seconds\n",
        "    try:\n",
        "        conn.request(\"HEAD\", \"/\")                                   # sends an HTTP HEAD request to the root (\"/\") of the Google website\n",
        "                                                                    # the HEAD request is used here because it retrieves only the headers, not the entire content, which makes it faster\n",
        "        conn.close()                                                # closes the connection\n",
        "        return True                                                 # print(\"True\") - there is an active internet connection\n",
        "    except:\n",
        "        conn.close()                                                # if there is an exception it closes the connection\n",
        "        return False                                                # print(\"False\") - there is no active internet connection"
      ],
      "metadata": {
        "id": "s7sWs-Ialo0G"
      },
      "execution_count": null,
      "outputs": []
    },
    {
      "cell_type": "code",
      "source": [
        "# Create a function which will get_historic_price for given query_url\n",
        "# It will save the stock data as json and csv inside a folder named \"historic_data\""
      ],
      "metadata": {
        "id": "DMusX2QrlpIR"
      },
      "execution_count": null,
      "outputs": []
    },
    {
      "cell_type": "code",
      "source": [
        "def get_historic_price(query_url, json_path, csv_path):               # download historical stock price data from a specified query_url, process the data, and save it as both a JSON file and a CSV file\n",
        "\n",
        "    stock_id = query_url.split(\"&period\")[0].split(\"symbol=\")[1]      # extracts the stock symbol from the query_url\n",
        "\n",
        "    if os.path.exists(csv_path+stock_id+'.csv') and os.stat(csv_path+stock_id+'.csv').st_size != 0: # checks if a CSV file with the historical data for the stock already exists in the specified csv_path and is not empty\n",
        "        print(\"<<<  Historical data of \"+stock_id+\" already exists\")  # if it exists, the function prints a message and returns early, indicating that the historical data already exists\n",
        "        return\n",
        "\n",
        "    while not check_internet():                                       # wait until there is an active internet connection by repeatedly checking with the check_internet() function\n",
        "        print(\"Could not connect, trying again in 5 seconds...\")      # print while checking connection\n",
        "        time.sleep(5)                                                 # waits 5 seconds\n",
        "\n",
        "    try:\n",
        "        with urllib.request.urlopen(query_url) as url:                # tries to open the specified query_url and parse the JSON data\n",
        "            parsed = json.loads(url.read().decode())                  # if successful, the data is stored in the parsed variable\n",
        "\n",
        "    except:\n",
        "        print(\"|||  Historical data of \"+stock_id+\" doesn't exist\")   # prints if no file exists it\n",
        "        return\n",
        "\n",
        "    else:\n",
        "        if os.path.exists(json_path+stock_id+'.json') and os.stat(json_path+stock_id+'.json').st_size != 0:   # # checks if a JSON file for the stock already exists in the specified json_path and is not empty\n",
        "            os.remove(json_path+stock_id+'.json')                     # if it exists, it is deleted\n",
        "\n",
        "        with open(json_path+stock_id+'.json', 'w') as outfile:\n",
        "            json.dump(parsed, outfile, indent=4)                      # writes the parsed JSON data to a JSON file in the specified json_path.\n",
        "\n",
        "        try:                                                          # attempts to extract relevant information from the parsed JSON data (such as Date, Low, Open, Volume, High, Close, and Adjusted Close)\n",
        "\n",
        "            Date = []                                                                                 # Date\n",
        "            for i in parsed['chart']['result'][0]['timestamp']:\n",
        "                Date.append(datetime.utcfromtimestamp(int(i)).strftime('%d-%m-%Y'))\n",
        "\n",
        "            Low = parsed['chart']['result'][0]['indicators']['quote'][0]['low']                       # Low\n",
        "            Open = parsed['chart']['result'][0]['indicators']['quote'][0]['open']                     # Open\n",
        "            Volume = parsed['chart']['result'][0]['indicators']['quote'][0]['volume']                 # Volume\n",
        "            High = parsed['chart']['result'][0]['indicators']['quote'][0]['high']                     # High\n",
        "            Close = parsed['chart']['result'][0]['indicators']['quote'][0]['close']                   # Close\n",
        "            Adjusted_Close = parsed['chart']['result'][0]['indicators']['adjclose'][0]['adjclose']    # Adjusted Close\n",
        "\n",
        "            # creates a pandas DataFrame (df) with this information\n",
        "            df = pd.DataFrame(list(zip(Date,Low,Open,Volume,High,Close,Adjusted_Close)),columns =['Date','Low','Open','Volume','High','Close','Adjusted Close'])\n",
        "\n",
        "            if os.path.exists(csv_path+stock_id+'.csv'):               # checks if a CSV file for the stock already exists in the specified csv_path\n",
        "                os.remove(csv_path+stock_id+'.csv')                    # deletes it if it does\n",
        "            df.to_csv(csv_path+stock_id+'.csv', sep=',', index=None)   # writes the DataFrame to a CSV file in the specified csv_path\n",
        "            print(\">>>  Historical data of \"+stock_id+\" saved\")        # prints if historical data is saved\n",
        "\n",
        "        except:\n",
        "            print(\">>>  Historical data of \"+stock_id+\" could not be saved\")  # prints if historical data could not be saved\n",
        "\n",
        "        return"
      ],
      "metadata": {
        "id": "nPh0F_v7l8Hj"
      },
      "execution_count": null,
      "outputs": []
    },
    {
      "cell_type": "code",
      "source": [
        "# Set where the json and csv files will be saved which have been passed to the function get_historic_price()"
      ],
      "metadata": {
        "id": "FtvgnvinmCev"
      },
      "execution_count": null,
      "outputs": []
    },
    {
      "cell_type": "markdown",
      "source": [
        "- os.getcwd(): Gets the current working directory.\n",
        "- os.sep: Represents the separator used in the file system paths. On Windows,it is '\\' (backslash), and on Unix-like systems (including Linux and macOS), it is '/' (forward slash).\n",
        "- \"..\": Represents the parent directory.\n",
        "- \"historic_data\": Represents a directory named \"historic_data\" within the parent directory.\n",
        "- \"json\" and \"csv\": Represent subdirectories within the \"historic_data\" directory, where JSON and CSV files will be stored, respectively."
      ],
      "metadata": {
        "id": "Xxvi9R105Z5U"
      }
    },
    {
      "cell_type": "code",
      "source": [
        "json_path = os.getcwd()+os.sep+\"..\"+os.sep+\"historic_data\"+os.sep+\"json\"+os.sep   # full path to the directory where JSON files will be stored\n",
        "csv_path = os.getcwd()+os.sep+\"..\"+os.sep+\"historic_data\"+os.sep+\"csv\"+os.sep     # full path to the directory where CSV files will be stored"
      ],
      "metadata": {
        "id": "onXNZP5VmHlL"
      },
      "execution_count": null,
      "outputs": []
    },
    {
      "cell_type": "code",
      "source": [
        "json_path  # see which directory we are in"
      ],
      "metadata": {
        "colab": {
          "base_uri": "https://localhost:8080/",
          "height": 35
        },
        "id": "NDJs9kl_44iz",
        "outputId": "5fa9a46a-522d-444c-83c8-142f52bdf257"
      },
      "execution_count": null,
      "outputs": [
        {
          "output_type": "execute_result",
          "data": {
            "text/plain": [
              "'/content/../historic_data/json/'"
            ],
            "application/vnd.google.colaboratory.intrinsic+json": {
              "type": "string"
            }
          },
          "metadata": {},
          "execution_count": 14
        }
      ]
    },
    {
      "cell_type": "code",
      "source": [
        "csv_path  # see which directory we are in"
      ],
      "metadata": {
        "colab": {
          "base_uri": "https://localhost:8080/",
          "height": 35
        },
        "id": "AiKTxSOF47Br",
        "outputId": "bed249c4-d7f4-42f9-f557-dcdc3f623cb6"
      },
      "execution_count": null,
      "outputs": [
        {
          "output_type": "execute_result",
          "data": {
            "text/plain": [
              "'/content/../historic_data/csv/'"
            ],
            "application/vnd.google.colaboratory.intrinsic+json": {
              "type": "string"
            }
          },
          "metadata": {},
          "execution_count": 15
        }
      ]
    },
    {
      "cell_type": "code",
      "source": [
        "# Check if the above directories exist, if not, then we will use os.mkdir - use an if statement to create/make them"
      ],
      "metadata": {
        "id": "bOF9egxLmKS3"
      },
      "execution_count": null,
      "outputs": []
    },
    {
      "cell_type": "code",
      "source": [
        "# check JSON path\n",
        "if not os.path.isdir(json_path):  # if the condition is true, it means the directory is not present\n",
        "    os.makedirs(json_path)        # creates path if it doesnt exist\n",
        "\n",
        "# check CSV path\n",
        "if not os.path.isdir(csv_path):   # if the condition is true, it means the directory is not present\n",
        "    os.makedirs(csv_path)         # creates path if it doesnt exist"
      ],
      "metadata": {
        "id": "Z6EtMP8wmNXT"
      },
      "execution_count": null,
      "outputs": []
    },
    {
      "cell_type": "code",
      "source": [
        "# check\n",
        "print({json_path})\n",
        "print({csv_path})"
      ],
      "metadata": {
        "colab": {
          "base_uri": "https://localhost:8080/"
        },
        "id": "JX-0O0Qx6q6g",
        "outputId": "f9a5ea29-5133-4581-d14b-40531d5214e4"
      },
      "execution_count": null,
      "outputs": [
        {
          "output_type": "stream",
          "name": "stdout",
          "text": [
            "{'/content/../historic_data/json/'}\n",
            "{'/content/../historic_data/csv/'}\n"
          ]
        }
      ]
    },
    {
      "cell_type": "code",
      "source": [
        "# Create the funciton to shrink the ticker list."
      ],
      "metadata": {
        "id": "dPCyTYtFmRZ0"
      },
      "execution_count": null,
      "outputs": []
    },
    {
      "cell_type": "code",
      "source": [
        "print(\"Current working directory:\", os.getcwd())      # See which directory we are in to know how to call the file path"
      ],
      "metadata": {
        "colab": {
          "base_uri": "https://localhost:8080/"
        },
        "id": "5uNW3cUZaMxE",
        "outputId": "55eebcd0-31b5-4df4-a834-9114085f9d6e"
      },
      "execution_count": null,
      "outputs": [
        {
          "output_type": "stream",
          "name": "stdout",
          "text": [
            "Current working directory: /content\n"
          ]
        }
      ]
    },
    {
      "cell_type": "code",
      "source": [
        "ticker_file_path = \"/content/Yahoo Ticker Symbols - September 2017.xlsx\"      # define the file path for the excel file\n",
        "temp_df = pd.read_excel(ticker_file_path)                                     # uses pandas to read the excel file into a dataframe\n",
        "print(\"Total stocks:\", len(temp_df))                                          # print number of total stocks by printing the amount of rows\n",
        "temp_df.head(10)                                                              # print the first 10 rows"
      ],
      "metadata": {
        "colab": {
          "base_uri": "https://localhost:8080/",
          "height": 461
        },
        "id": "h5RSZM3saXbE",
        "outputId": "9a3bc591-d944-4fd1-d561-2b194ffbccc4"
      },
      "execution_count": null,
      "outputs": [
        {
          "output_type": "stream",
          "name": "stdout",
          "text": [
            "Total stocks: 106331\n"
          ]
        },
        {
          "output_type": "execute_result",
          "data": {
            "text/plain": [
              "      Yahoo Stock Tickers                               Unnamed: 1 Unnamed: 2  \\\n",
              "0  http://investexcel.net                                      NaN        NaN   \n",
              "1                     NaN                                      NaN        NaN   \n",
              "2                  Ticker                                     Name   Exchange   \n",
              "3                    OEDV  Osage Exploration and Development, Inc.        PNK   \n",
              "4                    AAPL                               Apple Inc.        NMS   \n",
              "5                     BAC              Bank of America Corporation        NYQ   \n",
              "6                    AMZN                         Amazon.com, Inc.        NMS   \n",
              "7                       T                                AT&T Inc.        NYQ   \n",
              "8                    GOOG                            Alphabet Inc.        NMS   \n",
              "9                      MO                       Altria Group, Inc.        NYQ   \n",
              "\n",
              "                       Unnamed: 3 Unnamed: 4  Unnamed: 5  Unnamed: 6  \\\n",
              "0                             NaN        NaN         NaN         NaN   \n",
              "1                             NaN        NaN         NaN         NaN   \n",
              "2                   Category Name    Country         NaN         NaN   \n",
              "3                             NaN        USA         NaN         NaN   \n",
              "4            Electronic Equipment        USA         NaN         NaN   \n",
              "5              Money Center Banks        USA         NaN         NaN   \n",
              "6     Catalog & Mail Order Houses        USA         NaN         NaN   \n",
              "7     Telecom Services - Domestic        USA         NaN         NaN   \n",
              "8  Internet Information Providers        USA         NaN         NaN   \n",
              "9                      Cigarettes        USA         NaN         NaN   \n",
              "\n",
              "                                          Unnamed: 7  \n",
              "0                                                NaN  \n",
              "1                                                NaN  \n",
              "2                                                NaN  \n",
              "3                                         Samir Khan  \n",
              "4                     simulationconsultant@gmail.com  \n",
              "5                                                NaN  \n",
              "6        This ticker symbol list was downloaded from  \n",
              "7  http://investexcel.net/all-yahoo-finance-stock...  \n",
              "8              and was updated on 2nd September 2017  \n",
              "9                                                NaN  "
            ],
            "text/html": [
              "\n",
              "  <div id=\"df-e30cad85-d903-4107-a6bf-da4b316c1c9e\" class=\"colab-df-container\">\n",
              "    <div>\n",
              "<style scoped>\n",
              "    .dataframe tbody tr th:only-of-type {\n",
              "        vertical-align: middle;\n",
              "    }\n",
              "\n",
              "    .dataframe tbody tr th {\n",
              "        vertical-align: top;\n",
              "    }\n",
              "\n",
              "    .dataframe thead th {\n",
              "        text-align: right;\n",
              "    }\n",
              "</style>\n",
              "<table border=\"1\" class=\"dataframe\">\n",
              "  <thead>\n",
              "    <tr style=\"text-align: right;\">\n",
              "      <th></th>\n",
              "      <th>Yahoo Stock Tickers</th>\n",
              "      <th>Unnamed: 1</th>\n",
              "      <th>Unnamed: 2</th>\n",
              "      <th>Unnamed: 3</th>\n",
              "      <th>Unnamed: 4</th>\n",
              "      <th>Unnamed: 5</th>\n",
              "      <th>Unnamed: 6</th>\n",
              "      <th>Unnamed: 7</th>\n",
              "    </tr>\n",
              "  </thead>\n",
              "  <tbody>\n",
              "    <tr>\n",
              "      <th>0</th>\n",
              "      <td>http://investexcel.net</td>\n",
              "      <td>NaN</td>\n",
              "      <td>NaN</td>\n",
              "      <td>NaN</td>\n",
              "      <td>NaN</td>\n",
              "      <td>NaN</td>\n",
              "      <td>NaN</td>\n",
              "      <td>NaN</td>\n",
              "    </tr>\n",
              "    <tr>\n",
              "      <th>1</th>\n",
              "      <td>NaN</td>\n",
              "      <td>NaN</td>\n",
              "      <td>NaN</td>\n",
              "      <td>NaN</td>\n",
              "      <td>NaN</td>\n",
              "      <td>NaN</td>\n",
              "      <td>NaN</td>\n",
              "      <td>NaN</td>\n",
              "    </tr>\n",
              "    <tr>\n",
              "      <th>2</th>\n",
              "      <td>Ticker</td>\n",
              "      <td>Name</td>\n",
              "      <td>Exchange</td>\n",
              "      <td>Category Name</td>\n",
              "      <td>Country</td>\n",
              "      <td>NaN</td>\n",
              "      <td>NaN</td>\n",
              "      <td>NaN</td>\n",
              "    </tr>\n",
              "    <tr>\n",
              "      <th>3</th>\n",
              "      <td>OEDV</td>\n",
              "      <td>Osage Exploration and Development, Inc.</td>\n",
              "      <td>PNK</td>\n",
              "      <td>NaN</td>\n",
              "      <td>USA</td>\n",
              "      <td>NaN</td>\n",
              "      <td>NaN</td>\n",
              "      <td>Samir Khan</td>\n",
              "    </tr>\n",
              "    <tr>\n",
              "      <th>4</th>\n",
              "      <td>AAPL</td>\n",
              "      <td>Apple Inc.</td>\n",
              "      <td>NMS</td>\n",
              "      <td>Electronic Equipment</td>\n",
              "      <td>USA</td>\n",
              "      <td>NaN</td>\n",
              "      <td>NaN</td>\n",
              "      <td>simulationconsultant@gmail.com</td>\n",
              "    </tr>\n",
              "    <tr>\n",
              "      <th>5</th>\n",
              "      <td>BAC</td>\n",
              "      <td>Bank of America Corporation</td>\n",
              "      <td>NYQ</td>\n",
              "      <td>Money Center Banks</td>\n",
              "      <td>USA</td>\n",
              "      <td>NaN</td>\n",
              "      <td>NaN</td>\n",
              "      <td>NaN</td>\n",
              "    </tr>\n",
              "    <tr>\n",
              "      <th>6</th>\n",
              "      <td>AMZN</td>\n",
              "      <td>Amazon.com, Inc.</td>\n",
              "      <td>NMS</td>\n",
              "      <td>Catalog &amp; Mail Order Houses</td>\n",
              "      <td>USA</td>\n",
              "      <td>NaN</td>\n",
              "      <td>NaN</td>\n",
              "      <td>This ticker symbol list was downloaded from</td>\n",
              "    </tr>\n",
              "    <tr>\n",
              "      <th>7</th>\n",
              "      <td>T</td>\n",
              "      <td>AT&amp;T Inc.</td>\n",
              "      <td>NYQ</td>\n",
              "      <td>Telecom Services - Domestic</td>\n",
              "      <td>USA</td>\n",
              "      <td>NaN</td>\n",
              "      <td>NaN</td>\n",
              "      <td>http://investexcel.net/all-yahoo-finance-stock...</td>\n",
              "    </tr>\n",
              "    <tr>\n",
              "      <th>8</th>\n",
              "      <td>GOOG</td>\n",
              "      <td>Alphabet Inc.</td>\n",
              "      <td>NMS</td>\n",
              "      <td>Internet Information Providers</td>\n",
              "      <td>USA</td>\n",
              "      <td>NaN</td>\n",
              "      <td>NaN</td>\n",
              "      <td>and was updated on 2nd September 2017</td>\n",
              "    </tr>\n",
              "    <tr>\n",
              "      <th>9</th>\n",
              "      <td>MO</td>\n",
              "      <td>Altria Group, Inc.</td>\n",
              "      <td>NYQ</td>\n",
              "      <td>Cigarettes</td>\n",
              "      <td>USA</td>\n",
              "      <td>NaN</td>\n",
              "      <td>NaN</td>\n",
              "      <td>NaN</td>\n",
              "    </tr>\n",
              "  </tbody>\n",
              "</table>\n",
              "</div>\n",
              "    <div class=\"colab-df-buttons\">\n",
              "\n",
              "  <div class=\"colab-df-container\">\n",
              "    <button class=\"colab-df-convert\" onclick=\"convertToInteractive('df-e30cad85-d903-4107-a6bf-da4b316c1c9e')\"\n",
              "            title=\"Convert this dataframe to an interactive table.\"\n",
              "            style=\"display:none;\">\n",
              "\n",
              "  <svg xmlns=\"http://www.w3.org/2000/svg\" height=\"24px\" viewBox=\"0 -960 960 960\">\n",
              "    <path d=\"M120-120v-720h720v720H120Zm60-500h600v-160H180v160Zm220 220h160v-160H400v160Zm0 220h160v-160H400v160ZM180-400h160v-160H180v160Zm440 0h160v-160H620v160ZM180-180h160v-160H180v160Zm440 0h160v-160H620v160Z\"/>\n",
              "  </svg>\n",
              "    </button>\n",
              "\n",
              "  <style>\n",
              "    .colab-df-container {\n",
              "      display:flex;\n",
              "      gap: 12px;\n",
              "    }\n",
              "\n",
              "    .colab-df-convert {\n",
              "      background-color: #E8F0FE;\n",
              "      border: none;\n",
              "      border-radius: 50%;\n",
              "      cursor: pointer;\n",
              "      display: none;\n",
              "      fill: #1967D2;\n",
              "      height: 32px;\n",
              "      padding: 0 0 0 0;\n",
              "      width: 32px;\n",
              "    }\n",
              "\n",
              "    .colab-df-convert:hover {\n",
              "      background-color: #E2EBFA;\n",
              "      box-shadow: 0px 1px 2px rgba(60, 64, 67, 0.3), 0px 1px 3px 1px rgba(60, 64, 67, 0.15);\n",
              "      fill: #174EA6;\n",
              "    }\n",
              "\n",
              "    .colab-df-buttons div {\n",
              "      margin-bottom: 4px;\n",
              "    }\n",
              "\n",
              "    [theme=dark] .colab-df-convert {\n",
              "      background-color: #3B4455;\n",
              "      fill: #D2E3FC;\n",
              "    }\n",
              "\n",
              "    [theme=dark] .colab-df-convert:hover {\n",
              "      background-color: #434B5C;\n",
              "      box-shadow: 0px 1px 3px 1px rgba(0, 0, 0, 0.15);\n",
              "      filter: drop-shadow(0px 1px 2px rgba(0, 0, 0, 0.3));\n",
              "      fill: #FFFFFF;\n",
              "    }\n",
              "  </style>\n",
              "\n",
              "    <script>\n",
              "      const buttonEl =\n",
              "        document.querySelector('#df-e30cad85-d903-4107-a6bf-da4b316c1c9e button.colab-df-convert');\n",
              "      buttonEl.style.display =\n",
              "        google.colab.kernel.accessAllowed ? 'block' : 'none';\n",
              "\n",
              "      async function convertToInteractive(key) {\n",
              "        const element = document.querySelector('#df-e30cad85-d903-4107-a6bf-da4b316c1c9e');\n",
              "        const dataTable =\n",
              "          await google.colab.kernel.invokeFunction('convertToInteractive',\n",
              "                                                    [key], {});\n",
              "        if (!dataTable) return;\n",
              "\n",
              "        const docLinkHtml = 'Like what you see? Visit the ' +\n",
              "          '<a target=\"_blank\" href=https://colab.research.google.com/notebooks/data_table.ipynb>data table notebook</a>'\n",
              "          + ' to learn more about interactive tables.';\n",
              "        element.innerHTML = '';\n",
              "        dataTable['output_type'] = 'display_data';\n",
              "        await google.colab.output.renderOutput(dataTable, element);\n",
              "        const docLink = document.createElement('div');\n",
              "        docLink.innerHTML = docLinkHtml;\n",
              "        element.appendChild(docLink);\n",
              "      }\n",
              "    </script>\n",
              "  </div>\n",
              "\n",
              "\n",
              "<div id=\"df-3963e1ce-1c27-4b71-8e84-bd03c7b21120\">\n",
              "  <button class=\"colab-df-quickchart\" onclick=\"quickchart('df-3963e1ce-1c27-4b71-8e84-bd03c7b21120')\"\n",
              "            title=\"Suggest charts\"\n",
              "            style=\"display:none;\">\n",
              "\n",
              "<svg xmlns=\"http://www.w3.org/2000/svg\" height=\"24px\"viewBox=\"0 0 24 24\"\n",
              "     width=\"24px\">\n",
              "    <g>\n",
              "        <path d=\"M19 3H5c-1.1 0-2 .9-2 2v14c0 1.1.9 2 2 2h14c1.1 0 2-.9 2-2V5c0-1.1-.9-2-2-2zM9 17H7v-7h2v7zm4 0h-2V7h2v10zm4 0h-2v-4h2v4z\"/>\n",
              "    </g>\n",
              "</svg>\n",
              "  </button>\n",
              "\n",
              "<style>\n",
              "  .colab-df-quickchart {\n",
              "      --bg-color: #E8F0FE;\n",
              "      --fill-color: #1967D2;\n",
              "      --hover-bg-color: #E2EBFA;\n",
              "      --hover-fill-color: #174EA6;\n",
              "      --disabled-fill-color: #AAA;\n",
              "      --disabled-bg-color: #DDD;\n",
              "  }\n",
              "\n",
              "  [theme=dark] .colab-df-quickchart {\n",
              "      --bg-color: #3B4455;\n",
              "      --fill-color: #D2E3FC;\n",
              "      --hover-bg-color: #434B5C;\n",
              "      --hover-fill-color: #FFFFFF;\n",
              "      --disabled-bg-color: #3B4455;\n",
              "      --disabled-fill-color: #666;\n",
              "  }\n",
              "\n",
              "  .colab-df-quickchart {\n",
              "    background-color: var(--bg-color);\n",
              "    border: none;\n",
              "    border-radius: 50%;\n",
              "    cursor: pointer;\n",
              "    display: none;\n",
              "    fill: var(--fill-color);\n",
              "    height: 32px;\n",
              "    padding: 0;\n",
              "    width: 32px;\n",
              "  }\n",
              "\n",
              "  .colab-df-quickchart:hover {\n",
              "    background-color: var(--hover-bg-color);\n",
              "    box-shadow: 0 1px 2px rgba(60, 64, 67, 0.3), 0 1px 3px 1px rgba(60, 64, 67, 0.15);\n",
              "    fill: var(--button-hover-fill-color);\n",
              "  }\n",
              "\n",
              "  .colab-df-quickchart-complete:disabled,\n",
              "  .colab-df-quickchart-complete:disabled:hover {\n",
              "    background-color: var(--disabled-bg-color);\n",
              "    fill: var(--disabled-fill-color);\n",
              "    box-shadow: none;\n",
              "  }\n",
              "\n",
              "  .colab-df-spinner {\n",
              "    border: 2px solid var(--fill-color);\n",
              "    border-color: transparent;\n",
              "    border-bottom-color: var(--fill-color);\n",
              "    animation:\n",
              "      spin 1s steps(1) infinite;\n",
              "  }\n",
              "\n",
              "  @keyframes spin {\n",
              "    0% {\n",
              "      border-color: transparent;\n",
              "      border-bottom-color: var(--fill-color);\n",
              "      border-left-color: var(--fill-color);\n",
              "    }\n",
              "    20% {\n",
              "      border-color: transparent;\n",
              "      border-left-color: var(--fill-color);\n",
              "      border-top-color: var(--fill-color);\n",
              "    }\n",
              "    30% {\n",
              "      border-color: transparent;\n",
              "      border-left-color: var(--fill-color);\n",
              "      border-top-color: var(--fill-color);\n",
              "      border-right-color: var(--fill-color);\n",
              "    }\n",
              "    40% {\n",
              "      border-color: transparent;\n",
              "      border-right-color: var(--fill-color);\n",
              "      border-top-color: var(--fill-color);\n",
              "    }\n",
              "    60% {\n",
              "      border-color: transparent;\n",
              "      border-right-color: var(--fill-color);\n",
              "    }\n",
              "    80% {\n",
              "      border-color: transparent;\n",
              "      border-right-color: var(--fill-color);\n",
              "      border-bottom-color: var(--fill-color);\n",
              "    }\n",
              "    90% {\n",
              "      border-color: transparent;\n",
              "      border-bottom-color: var(--fill-color);\n",
              "    }\n",
              "  }\n",
              "</style>\n",
              "\n",
              "  <script>\n",
              "    async function quickchart(key) {\n",
              "      const quickchartButtonEl =\n",
              "        document.querySelector('#' + key + ' button');\n",
              "      quickchartButtonEl.disabled = true;  // To prevent multiple clicks.\n",
              "      quickchartButtonEl.classList.add('colab-df-spinner');\n",
              "      try {\n",
              "        const charts = await google.colab.kernel.invokeFunction(\n",
              "            'suggestCharts', [key], {});\n",
              "      } catch (error) {\n",
              "        console.error('Error during call to suggestCharts:', error);\n",
              "      }\n",
              "      quickchartButtonEl.classList.remove('colab-df-spinner');\n",
              "      quickchartButtonEl.classList.add('colab-df-quickchart-complete');\n",
              "    }\n",
              "    (() => {\n",
              "      let quickchartButtonEl =\n",
              "        document.querySelector('#df-3963e1ce-1c27-4b71-8e84-bd03c7b21120 button');\n",
              "      quickchartButtonEl.style.display =\n",
              "        google.colab.kernel.accessAllowed ? 'block' : 'none';\n",
              "    })();\n",
              "  </script>\n",
              "</div>\n",
              "\n",
              "    </div>\n",
              "  </div>\n"
            ]
          },
          "metadata": {},
          "execution_count": 21
        }
      ]
    },
    {
      "cell_type": "code",
      "source": [
        "# Refine the data to organize it"
      ],
      "metadata": {
        "id": "IQwsTi4rfvw2"
      },
      "execution_count": null,
      "outputs": []
    },
    {
      "cell_type": "code",
      "source": [
        "temp_df = temp_df.drop(temp_df.columns[[5, 6, 7]], axis=1)  # drops columns at indices 5, 6, and 7 from the DataFrame temp_df, and axis=1 argument indicates that columns are being dropped\n",
        "headers = temp_df.iloc[2]                                   # extracts the third row of the modified DataFrame (temp_df) and assigns it to the variable headers\n",
        "df = pd.DataFrame(temp_df.values[3:], columns=headers)      # creates a new DataFrame (df) using the values from the rows starting from index 3 of the modified temp_df. The columns=headers argument assigns the extracted headers to the DataFrame\n",
        "print(\"Total stocks:\",len(df))                              # prints the amount of rows\n",
        "df.head(10)                                                 # print the first 10 rows"
      ],
      "metadata": {
        "colab": {
          "base_uri": "https://localhost:8080/",
          "height": 376
        },
        "id": "rq1MBNoBfv5B",
        "outputId": "4bb15161-7f57-4279-f69a-d5b1d1ded849"
      },
      "execution_count": null,
      "outputs": [
        {
          "output_type": "stream",
          "name": "stdout",
          "text": [
            "Total stocks: 106328\n"
          ]
        },
        {
          "output_type": "execute_result",
          "data": {
            "text/plain": [
              "2 Ticker                                     Name Exchange  \\\n",
              "0   OEDV  Osage Exploration and Development, Inc.      PNK   \n",
              "1   AAPL                               Apple Inc.      NMS   \n",
              "2    BAC              Bank of America Corporation      NYQ   \n",
              "3   AMZN                         Amazon.com, Inc.      NMS   \n",
              "4      T                                AT&T Inc.      NYQ   \n",
              "5   GOOG                            Alphabet Inc.      NMS   \n",
              "6     MO                       Altria Group, Inc.      NYQ   \n",
              "7    DAL                    Delta Air Lines, Inc.      NYQ   \n",
              "8     AA                        Alcoa Corporation      NYQ   \n",
              "9    AXP                 American Express Company      NYQ   \n",
              "\n",
              "2                   Category Name Country  \n",
              "0                             NaN     USA  \n",
              "1            Electronic Equipment     USA  \n",
              "2              Money Center Banks     USA  \n",
              "3     Catalog & Mail Order Houses     USA  \n",
              "4     Telecom Services - Domestic     USA  \n",
              "5  Internet Information Providers     USA  \n",
              "6                      Cigarettes     USA  \n",
              "7                  Major Airlines     USA  \n",
              "8                        Aluminum     USA  \n",
              "9                 Credit Services     USA  "
            ],
            "text/html": [
              "\n",
              "  <div id=\"df-98f1298d-bcc7-4c4f-add3-0978bf434944\" class=\"colab-df-container\">\n",
              "    <div>\n",
              "<style scoped>\n",
              "    .dataframe tbody tr th:only-of-type {\n",
              "        vertical-align: middle;\n",
              "    }\n",
              "\n",
              "    .dataframe tbody tr th {\n",
              "        vertical-align: top;\n",
              "    }\n",
              "\n",
              "    .dataframe thead th {\n",
              "        text-align: right;\n",
              "    }\n",
              "</style>\n",
              "<table border=\"1\" class=\"dataframe\">\n",
              "  <thead>\n",
              "    <tr style=\"text-align: right;\">\n",
              "      <th>2</th>\n",
              "      <th>Ticker</th>\n",
              "      <th>Name</th>\n",
              "      <th>Exchange</th>\n",
              "      <th>Category Name</th>\n",
              "      <th>Country</th>\n",
              "    </tr>\n",
              "  </thead>\n",
              "  <tbody>\n",
              "    <tr>\n",
              "      <th>0</th>\n",
              "      <td>OEDV</td>\n",
              "      <td>Osage Exploration and Development, Inc.</td>\n",
              "      <td>PNK</td>\n",
              "      <td>NaN</td>\n",
              "      <td>USA</td>\n",
              "    </tr>\n",
              "    <tr>\n",
              "      <th>1</th>\n",
              "      <td>AAPL</td>\n",
              "      <td>Apple Inc.</td>\n",
              "      <td>NMS</td>\n",
              "      <td>Electronic Equipment</td>\n",
              "      <td>USA</td>\n",
              "    </tr>\n",
              "    <tr>\n",
              "      <th>2</th>\n",
              "      <td>BAC</td>\n",
              "      <td>Bank of America Corporation</td>\n",
              "      <td>NYQ</td>\n",
              "      <td>Money Center Banks</td>\n",
              "      <td>USA</td>\n",
              "    </tr>\n",
              "    <tr>\n",
              "      <th>3</th>\n",
              "      <td>AMZN</td>\n",
              "      <td>Amazon.com, Inc.</td>\n",
              "      <td>NMS</td>\n",
              "      <td>Catalog &amp; Mail Order Houses</td>\n",
              "      <td>USA</td>\n",
              "    </tr>\n",
              "    <tr>\n",
              "      <th>4</th>\n",
              "      <td>T</td>\n",
              "      <td>AT&amp;T Inc.</td>\n",
              "      <td>NYQ</td>\n",
              "      <td>Telecom Services - Domestic</td>\n",
              "      <td>USA</td>\n",
              "    </tr>\n",
              "    <tr>\n",
              "      <th>5</th>\n",
              "      <td>GOOG</td>\n",
              "      <td>Alphabet Inc.</td>\n",
              "      <td>NMS</td>\n",
              "      <td>Internet Information Providers</td>\n",
              "      <td>USA</td>\n",
              "    </tr>\n",
              "    <tr>\n",
              "      <th>6</th>\n",
              "      <td>MO</td>\n",
              "      <td>Altria Group, Inc.</td>\n",
              "      <td>NYQ</td>\n",
              "      <td>Cigarettes</td>\n",
              "      <td>USA</td>\n",
              "    </tr>\n",
              "    <tr>\n",
              "      <th>7</th>\n",
              "      <td>DAL</td>\n",
              "      <td>Delta Air Lines, Inc.</td>\n",
              "      <td>NYQ</td>\n",
              "      <td>Major Airlines</td>\n",
              "      <td>USA</td>\n",
              "    </tr>\n",
              "    <tr>\n",
              "      <th>8</th>\n",
              "      <td>AA</td>\n",
              "      <td>Alcoa Corporation</td>\n",
              "      <td>NYQ</td>\n",
              "      <td>Aluminum</td>\n",
              "      <td>USA</td>\n",
              "    </tr>\n",
              "    <tr>\n",
              "      <th>9</th>\n",
              "      <td>AXP</td>\n",
              "      <td>American Express Company</td>\n",
              "      <td>NYQ</td>\n",
              "      <td>Credit Services</td>\n",
              "      <td>USA</td>\n",
              "    </tr>\n",
              "  </tbody>\n",
              "</table>\n",
              "</div>\n",
              "    <div class=\"colab-df-buttons\">\n",
              "\n",
              "  <div class=\"colab-df-container\">\n",
              "    <button class=\"colab-df-convert\" onclick=\"convertToInteractive('df-98f1298d-bcc7-4c4f-add3-0978bf434944')\"\n",
              "            title=\"Convert this dataframe to an interactive table.\"\n",
              "            style=\"display:none;\">\n",
              "\n",
              "  <svg xmlns=\"http://www.w3.org/2000/svg\" height=\"24px\" viewBox=\"0 -960 960 960\">\n",
              "    <path d=\"M120-120v-720h720v720H120Zm60-500h600v-160H180v160Zm220 220h160v-160H400v160Zm0 220h160v-160H400v160ZM180-400h160v-160H180v160Zm440 0h160v-160H620v160ZM180-180h160v-160H180v160Zm440 0h160v-160H620v160Z\"/>\n",
              "  </svg>\n",
              "    </button>\n",
              "\n",
              "  <style>\n",
              "    .colab-df-container {\n",
              "      display:flex;\n",
              "      gap: 12px;\n",
              "    }\n",
              "\n",
              "    .colab-df-convert {\n",
              "      background-color: #E8F0FE;\n",
              "      border: none;\n",
              "      border-radius: 50%;\n",
              "      cursor: pointer;\n",
              "      display: none;\n",
              "      fill: #1967D2;\n",
              "      height: 32px;\n",
              "      padding: 0 0 0 0;\n",
              "      width: 32px;\n",
              "    }\n",
              "\n",
              "    .colab-df-convert:hover {\n",
              "      background-color: #E2EBFA;\n",
              "      box-shadow: 0px 1px 2px rgba(60, 64, 67, 0.3), 0px 1px 3px 1px rgba(60, 64, 67, 0.15);\n",
              "      fill: #174EA6;\n",
              "    }\n",
              "\n",
              "    .colab-df-buttons div {\n",
              "      margin-bottom: 4px;\n",
              "    }\n",
              "\n",
              "    [theme=dark] .colab-df-convert {\n",
              "      background-color: #3B4455;\n",
              "      fill: #D2E3FC;\n",
              "    }\n",
              "\n",
              "    [theme=dark] .colab-df-convert:hover {\n",
              "      background-color: #434B5C;\n",
              "      box-shadow: 0px 1px 3px 1px rgba(0, 0, 0, 0.15);\n",
              "      filter: drop-shadow(0px 1px 2px rgba(0, 0, 0, 0.3));\n",
              "      fill: #FFFFFF;\n",
              "    }\n",
              "  </style>\n",
              "\n",
              "    <script>\n",
              "      const buttonEl =\n",
              "        document.querySelector('#df-98f1298d-bcc7-4c4f-add3-0978bf434944 button.colab-df-convert');\n",
              "      buttonEl.style.display =\n",
              "        google.colab.kernel.accessAllowed ? 'block' : 'none';\n",
              "\n",
              "      async function convertToInteractive(key) {\n",
              "        const element = document.querySelector('#df-98f1298d-bcc7-4c4f-add3-0978bf434944');\n",
              "        const dataTable =\n",
              "          await google.colab.kernel.invokeFunction('convertToInteractive',\n",
              "                                                    [key], {});\n",
              "        if (!dataTable) return;\n",
              "\n",
              "        const docLinkHtml = 'Like what you see? Visit the ' +\n",
              "          '<a target=\"_blank\" href=https://colab.research.google.com/notebooks/data_table.ipynb>data table notebook</a>'\n",
              "          + ' to learn more about interactive tables.';\n",
              "        element.innerHTML = '';\n",
              "        dataTable['output_type'] = 'display_data';\n",
              "        await google.colab.output.renderOutput(dataTable, element);\n",
              "        const docLink = document.createElement('div');\n",
              "        docLink.innerHTML = docLinkHtml;\n",
              "        element.appendChild(docLink);\n",
              "      }\n",
              "    </script>\n",
              "  </div>\n",
              "\n",
              "\n",
              "<div id=\"df-b9a10c32-5274-461e-b0f9-7ee93e7272b3\">\n",
              "  <button class=\"colab-df-quickchart\" onclick=\"quickchart('df-b9a10c32-5274-461e-b0f9-7ee93e7272b3')\"\n",
              "            title=\"Suggest charts\"\n",
              "            style=\"display:none;\">\n",
              "\n",
              "<svg xmlns=\"http://www.w3.org/2000/svg\" height=\"24px\"viewBox=\"0 0 24 24\"\n",
              "     width=\"24px\">\n",
              "    <g>\n",
              "        <path d=\"M19 3H5c-1.1 0-2 .9-2 2v14c0 1.1.9 2 2 2h14c1.1 0 2-.9 2-2V5c0-1.1-.9-2-2-2zM9 17H7v-7h2v7zm4 0h-2V7h2v10zm4 0h-2v-4h2v4z\"/>\n",
              "    </g>\n",
              "</svg>\n",
              "  </button>\n",
              "\n",
              "<style>\n",
              "  .colab-df-quickchart {\n",
              "      --bg-color: #E8F0FE;\n",
              "      --fill-color: #1967D2;\n",
              "      --hover-bg-color: #E2EBFA;\n",
              "      --hover-fill-color: #174EA6;\n",
              "      --disabled-fill-color: #AAA;\n",
              "      --disabled-bg-color: #DDD;\n",
              "  }\n",
              "\n",
              "  [theme=dark] .colab-df-quickchart {\n",
              "      --bg-color: #3B4455;\n",
              "      --fill-color: #D2E3FC;\n",
              "      --hover-bg-color: #434B5C;\n",
              "      --hover-fill-color: #FFFFFF;\n",
              "      --disabled-bg-color: #3B4455;\n",
              "      --disabled-fill-color: #666;\n",
              "  }\n",
              "\n",
              "  .colab-df-quickchart {\n",
              "    background-color: var(--bg-color);\n",
              "    border: none;\n",
              "    border-radius: 50%;\n",
              "    cursor: pointer;\n",
              "    display: none;\n",
              "    fill: var(--fill-color);\n",
              "    height: 32px;\n",
              "    padding: 0;\n",
              "    width: 32px;\n",
              "  }\n",
              "\n",
              "  .colab-df-quickchart:hover {\n",
              "    background-color: var(--hover-bg-color);\n",
              "    box-shadow: 0 1px 2px rgba(60, 64, 67, 0.3), 0 1px 3px 1px rgba(60, 64, 67, 0.15);\n",
              "    fill: var(--button-hover-fill-color);\n",
              "  }\n",
              "\n",
              "  .colab-df-quickchart-complete:disabled,\n",
              "  .colab-df-quickchart-complete:disabled:hover {\n",
              "    background-color: var(--disabled-bg-color);\n",
              "    fill: var(--disabled-fill-color);\n",
              "    box-shadow: none;\n",
              "  }\n",
              "\n",
              "  .colab-df-spinner {\n",
              "    border: 2px solid var(--fill-color);\n",
              "    border-color: transparent;\n",
              "    border-bottom-color: var(--fill-color);\n",
              "    animation:\n",
              "      spin 1s steps(1) infinite;\n",
              "  }\n",
              "\n",
              "  @keyframes spin {\n",
              "    0% {\n",
              "      border-color: transparent;\n",
              "      border-bottom-color: var(--fill-color);\n",
              "      border-left-color: var(--fill-color);\n",
              "    }\n",
              "    20% {\n",
              "      border-color: transparent;\n",
              "      border-left-color: var(--fill-color);\n",
              "      border-top-color: var(--fill-color);\n",
              "    }\n",
              "    30% {\n",
              "      border-color: transparent;\n",
              "      border-left-color: var(--fill-color);\n",
              "      border-top-color: var(--fill-color);\n",
              "      border-right-color: var(--fill-color);\n",
              "    }\n",
              "    40% {\n",
              "      border-color: transparent;\n",
              "      border-right-color: var(--fill-color);\n",
              "      border-top-color: var(--fill-color);\n",
              "    }\n",
              "    60% {\n",
              "      border-color: transparent;\n",
              "      border-right-color: var(--fill-color);\n",
              "    }\n",
              "    80% {\n",
              "      border-color: transparent;\n",
              "      border-right-color: var(--fill-color);\n",
              "      border-bottom-color: var(--fill-color);\n",
              "    }\n",
              "    90% {\n",
              "      border-color: transparent;\n",
              "      border-bottom-color: var(--fill-color);\n",
              "    }\n",
              "  }\n",
              "</style>\n",
              "\n",
              "  <script>\n",
              "    async function quickchart(key) {\n",
              "      const quickchartButtonEl =\n",
              "        document.querySelector('#' + key + ' button');\n",
              "      quickchartButtonEl.disabled = true;  // To prevent multiple clicks.\n",
              "      quickchartButtonEl.classList.add('colab-df-spinner');\n",
              "      try {\n",
              "        const charts = await google.colab.kernel.invokeFunction(\n",
              "            'suggestCharts', [key], {});\n",
              "      } catch (error) {\n",
              "        console.error('Error during call to suggestCharts:', error);\n",
              "      }\n",
              "      quickchartButtonEl.classList.remove('colab-df-spinner');\n",
              "      quickchartButtonEl.classList.add('colab-df-quickchart-complete');\n",
              "    }\n",
              "    (() => {\n",
              "      let quickchartButtonEl =\n",
              "        document.querySelector('#df-b9a10c32-5274-461e-b0f9-7ee93e7272b3 button');\n",
              "      quickchartButtonEl.style.display =\n",
              "        google.colab.kernel.accessAllowed ? 'block' : 'none';\n",
              "    })();\n",
              "  </script>\n",
              "</div>\n",
              "\n",
              "    </div>\n",
              "  </div>\n"
            ]
          },
          "metadata": {},
          "execution_count": 22
        }
      ]
    },
    {
      "cell_type": "code",
      "source": [
        "# Create query urls for the stock tickers\n",
        "# This will bring the query pages, where yahoo finance holds it's historical stock data"
      ],
      "metadata": {
        "id": "t1u9y8C2mjdk"
      },
      "execution_count": null,
      "outputs": []
    },
    {
      "cell_type": "code",
      "source": [
        "query_urls=[]                 # initializes an empty list called query_urls to store the constructed query URLs\n",
        "for ticker in df['Ticker']:   # iterates through each value in the 'Ticker' column of the DataFrame df\n",
        "    # constructs a query url for each stock ticker\n",
        "    query_urls.append(\"https://query1.finance.yahoo.com/v8/finance/chart/\"+ticker+\"?symbol=\"+ticker+\"&period1=0&period2=9999999999&interval=1d&includePrePost=true&events=div%2Csplit\")"
      ],
      "metadata": {
        "id": "LAerqbWyfZyH"
      },
      "execution_count": null,
      "outputs": []
    },
    {
      "cell_type": "code",
      "source": [
        "# Get stock data with multithreading/multiprocessing"
      ],
      "metadata": {
        "id": "C4TqUMr4fbx_"
      },
      "execution_count": null,
      "outputs": []
    },
    {
      "cell_type": "code",
      "source": [
        "# creates a pool of worker processes using the Pool class from the multiprocessing module\n",
        "with Pool(processes=10) as pool: # the processes=10 argument specifies that there should be 10 parallel processes\n",
        "    # uses the starmap method of the pool to apply the get_historic_price function to each tuple of arguments in parallel\n",
        "    # the arguments are obtained by zipping together the query_urls list and repeating json_path and csv_path for each URL using itertools.repeat\n",
        "    # this parallelization allows for faster execution of the function for multiple stocks.\n",
        "    pool.starmap(get_historic_price, zip(query_urls, itertools.repeat(json_path), itertools.repeat(csv_path)))\n",
        "print(\"<|>  Historical data of all stocks saved\") # prints upon completion"
      ],
      "metadata": {
        "id": "KJUkpURef9R1"
      },
      "execution_count": null,
      "outputs": []
    },
    {
      "cell_type": "markdown",
      "source": [
        "In summary, the code is designed to overwrite existing JSON and CSV files for each stock, but it doesn't explicitly delete all data before saving. It checks and removes existing files on a per-stock basis. If there is any existing data for a stock, the code overwrites it with the new data."
      ],
      "metadata": {
        "id": "VEd_2MA1c8-t"
      }
    },
    {
      "cell_type": "markdown",
      "source": [
        "# TESTING"
      ],
      "metadata": {
        "id": "XJJYm-Y9hN7V"
      }
    },
    {
      "cell_type": "code",
      "source": [
        "# Use the previously defined csv_path\n",
        "csv_path_example = os.getcwd() + os.sep + \"..\" + os.sep + \"historic_data\" + os.sep + \"csv\" + os.sep\n",
        "\n",
        "# Example usage for stock symbol \"AAPL\"\n",
        "stock_symbol_example = \"AAPL\"\n",
        "view_historical_data(stock_symbol_example, csv_path_example)"
      ],
      "metadata": {
        "colab": {
          "base_uri": "https://localhost:8080/"
        },
        "id": "6OkHwOZ8gCpt",
        "outputId": "a9de36ff-24aa-4571-d6aa-a97b5d2462d7"
      },
      "execution_count": null,
      "outputs": [
        {
          "output_type": "stream",
          "name": "stdout",
          "text": [
            "Historical data for AAPL:\n",
            "         Date       Low      Open     Volume      High     Close  \\\n",
            "0  12-12-1980  0.128348  0.128348  469033600  0.128906  0.128348   \n",
            "1  15-12-1980  0.121652  0.122210  175884800  0.122210  0.121652   \n",
            "2  16-12-1980  0.112723  0.113281  105728000  0.113281  0.112723   \n",
            "3  17-12-1980  0.115513  0.115513   86441600  0.116071  0.115513   \n",
            "4  18-12-1980  0.118862  0.118862   73449600  0.119420  0.118862   \n",
            "\n",
            "   Adjusted Close  \n",
            "0        0.099319  \n",
            "1        0.094137  \n",
            "2        0.087228  \n",
            "3        0.089387  \n",
            "4        0.091978  \n"
          ]
        }
      ]
    },
    {
      "cell_type": "code",
      "source": [
        "import requests\n",
        "\n",
        "def get_latest_stock_data(api_key, stock_symbol):\n",
        "    base_url = \"https://www.alphavantage.co/query\"\n",
        "\n",
        "    # Define the API parameters for the time series intraday request\n",
        "    params = {\n",
        "        \"function\": \"TIME_SERIES_INTRADAY\",\n",
        "        \"symbol\": stock_symbol,\n",
        "        \"interval\": \"1min\",  # Adjust the interval as needed (e.g., \"5min\", \"15min\", \"1d\")\n",
        "        \"apikey\": api_key,\n",
        "    }\n",
        "\n",
        "    try:\n",
        "        # Make the API request\n",
        "        response = requests.get(base_url, params=params)\n",
        "        data = response.json()\n",
        "\n",
        "        # Extract the most recent stock data\n",
        "        latest_data = data[\"Time Series (1min)\"]\n",
        "        latest_timestamp = max(latest_data.keys())\n",
        "        latest_stock_info = latest_data[latest_timestamp]\n",
        "\n",
        "        # Display the latest stock information\n",
        "        print(f\"Latest data for {stock_symbol} at {latest_timestamp}:\")\n",
        "        print(f\"Open: {latest_stock_info['1. open']}\")\n",
        "        print(f\"High: {latest_stock_info['2. high']}\")\n",
        "        print(f\"Low: {latest_stock_info['3. low']}\")\n",
        "        print(f\"Close: {latest_stock_info['4. close']}\")\n",
        "        print(f\"Volume: {latest_stock_info['5. volume']}\")\n",
        "\n",
        "    except Exception as e:\n",
        "        print(f\"An error occurred: {e}\")\n",
        "\n",
        "# Example usage:\n",
        "# Replace 'YOUR_API_KEY' with your actual Alpha Vantage API key\n",
        "api_key_example = \"YOUR_API_KEY\"\n",
        "stock_symbol_example = \"AAPL\"  # Change this to the desired stock symbol\n",
        "\n",
        "# Call the function\n",
        "get_latest_stock_data(api_key_example, stock_symbol_example)\n"
      ],
      "metadata": {
        "colab": {
          "base_uri": "https://localhost:8080/"
        },
        "id": "ljng5Bw0hAfR",
        "outputId": "c7d13641-a343-4561-d604-37b271e0e1f9"
      },
      "execution_count": null,
      "outputs": [
        {
          "output_type": "stream",
          "name": "stdout",
          "text": [
            "An error occurred: 'Time Series (1min)'\n"
          ]
        }
      ]
    },
    {
      "cell_type": "code",
      "source": [],
      "metadata": {
        "id": "TwVfWxlIhHg1"
      },
      "execution_count": null,
      "outputs": []
    }
  ]
}